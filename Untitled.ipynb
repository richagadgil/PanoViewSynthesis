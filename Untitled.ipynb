{
 "cells": [
  {
   "cell_type": "code",
   "execution_count": 31,
   "metadata": {},
   "outputs": [],
   "source": [
    "from pythreejs import *\n",
    "import ipywidgets\n",
    "from IPython.display import display"
   ]
  },
  {
   "cell_type": "code",
   "execution_count": 32,
   "metadata": {},
   "outputs": [],
   "source": [
    "# Reduce repo churn for examples with embedded state:\n",
    "from pythreejs._example_helper import use_example_model_ids\n",
    "use_example_model_ids()"
   ]
  },
  {
   "cell_type": "code",
   "execution_count": 61,
   "metadata": {},
   "outputs": [
    {
     "name": "stdout",
     "output_type": "stream",
     "text": [
      "['__class__', '__del__', '__delattr__', '__dict__', '__dir__', '__doc__', '__eq__', '__format__', '__ge__', '__getattribute__', '__getstate__', '__gt__', '__hash__', '__init__', '__init_subclass__', '__le__', '__lt__', '__module__', '__ne__', '__new__', '__reduce__', '__reduce_ex__', '__repr__', '__setattr__', '__setstate__', '__signature__', '__sizeof__', '__str__', '__subclasshook__', '__weakref__', '_add_notifiers', '_call_widget_constructed', '_comm_changed', '_compare', '_cross_validation_lock', '_default_keys', '_display_callbacks', '_gen_repr_from_keys', '_get_embed_state', '_handle_custom_msg', '_handle_displayed', '_handle_msg', '_holding_sync', '_ipython_display_', '_is_numpy', '_lock_property', '_log_default', '_model_id', '_model_module', '_model_module_version', '_model_name', '_msg_callbacks', '_notify_trait', '_on_potential_ret_val', '_on_ret_val', '_previewable', '_property_lock', '_register_validator', '_remove_notifiers', '_repr_keys', '_send', '_should_send_property', '_states_to_send', '_trait_default_generators', '_trait_from_json', '_trait_notifiers', '_trait_to_json', '_trait_validators', '_trait_values', '_view_count', '_view_module', '_view_module_version', '_view_name', '_widget_construction_callback', 'add_traits', 'class_own_trait_events', 'class_own_traits', 'class_trait_names', 'class_traits', 'close', 'close_all', 'comm', 'cross_validation_lock', 'exec_three_obj_method', 'get_manager_state', 'get_state', 'get_view_spec', 'handle_comm_opened', 'has_trait', 'hold_sync', 'hold_trait_notifications', 'keys', 'log', 'model_id', 'notify_change', 'observe', 'on_displayed', 'on_msg', 'on_trait_change', 'on_widget_constructed', 'open', 'send', 'send_state', 'set_state', 'set_trait', 'setup_instance', 'trait_events', 'trait_metadata', 'trait_names', 'traits', 'unobserve', 'unobserve_all', 'widget_types', 'widgets']\n"
     ]
    },
    {
     "ename": "AttributeError",
     "evalue": "'TextureLoader' object has no attribute 'load'",
     "output_type": "error",
     "traceback": [
      "\u001b[0;31m---------------------------------------------------------------------------\u001b[0m",
      "\u001b[0;31mAttributeError\u001b[0m                            Traceback (most recent call last)",
      "\u001b[0;32m<ipython-input-61-874721db0dde>\u001b[0m in \u001b[0;36m<module>\u001b[0;34m\u001b[0m\n\u001b[1;32m     16\u001b[0m materials = [\n\u001b[1;32m     17\u001b[0m         MeshBasicMaterial({\n\u001b[0;32m---> 18\u001b[0;31m             map: loader.load(\n\u001b[0m\u001b[1;32m     19\u001b[0m                 \u001b[0;34m'https://threejsfundamentals.org/threejs/resources/images/flower-1.jpg'\u001b[0m\u001b[0;34m\u001b[0m\u001b[0;34m\u001b[0m\u001b[0m\n\u001b[1;32m     20\u001b[0m             )\n",
      "\u001b[0;31mAttributeError\u001b[0m: 'TextureLoader' object has no attribute 'load'"
     ]
    }
   ],
   "source": [
    "fov = 75\n",
    "aspect = 2 # the canvas default\n",
    "near = 0.1\n",
    "far = 5\n",
    "camera = PerspectiveCamera(fov, aspect, near, far)\n",
    "s = Scene()\n",
    "\n",
    "boxWidth = 1\n",
    "boxHeight = 1\n",
    "boxDepth = 1\n",
    "geometry = BoxBufferGeometry(boxWidth, boxHeight, boxDepth)\n",
    "\n",
    "cubes = [] # just an array we can use to rotate the cubes\n",
    "loader = TextureLoader()\n",
    "print(dir(loader))\n",
    "materials = [\n",
    "        MeshBasicMaterial({\n",
    "            map: loader.load(\n",
    "                'https://threejsfundamentals.org/threejs/resources/images/flower-1.jpg'\n",
    "            )\n",
    "        }),\n",
    "        MeshBasicMaterial({\n",
    "            map: loader.load(\n",
    "                'https://threejsfundamentals.org/threejs/resources/images/flower-2.jpg'\n",
    "            )\n",
    "        }),\n",
    "        MeshBasicMaterial({\n",
    "            map: loader.load(\n",
    "                'https://threejsfundamentals.org/threejs/resources/images/flower-3.jpg'\n",
    "            )\n",
    "        }),\n",
    "        MeshBasicMaterial({\n",
    "            map: loader.load(\n",
    "                'https://threejsfundamentals.org/threejs/resources/images/flower-4.jpg'\n",
    "            )\n",
    "        }),\n",
    "        MeshBasicMaterial({\n",
    "            map: loader.load(\n",
    "                'https://threejsfundamentals.org/threejs/resources/images/flower-5.jpg'\n",
    "            )\n",
    "        }),\n",
    "        MeshBasicMaterial({\n",
    "            map: loader.load(\n",
    "                'https://threejsfundamentals.org/threejs/resources/images/flower-6.jpg'\n",
    "            )\n",
    "        })\n",
    "    ];\n",
    "\n",
    "cube = Mesh(geometry, materials);"
   ]
  },
  {
   "cell_type": "code",
   "execution_count": 55,
   "metadata": {},
   "outputs": [
    {
     "ename": "AttributeError",
     "evalue": "'TextureLoader' object has no attribute 'child'",
     "output_type": "error",
     "traceback": [
      "\u001b[0;31m---------------------------------------------------------------------------\u001b[0m",
      "\u001b[0;31mAttributeError\u001b[0m                            Traceback (most recent call last)",
      "\u001b[0;32m<ipython-input-55-76b1c1d46f11>\u001b[0m in \u001b[0;36m<module>\u001b[0;34m\u001b[0m\n\u001b[0;32m----> 1\u001b[0;31m \u001b[0mloader\u001b[0m\u001b[0;34m.\u001b[0m\u001b[0mchild\u001b[0m\u001b[0;34m\u001b[0m\u001b[0;34m\u001b[0m\u001b[0m\n\u001b[0m",
      "\u001b[0;31mAttributeError\u001b[0m: 'TextureLoader' object has no attribute 'child'"
     ]
    }
   ],
   "source": [
    "loader"
   ]
  },
  {
   "cell_type": "code",
   "execution_count": null,
   "metadata": {},
   "outputs": [],
   "source": []
  }
 ],
 "metadata": {
  "kernelspec": {
   "display_name": "Python 3",
   "language": "python",
   "name": "python3"
  },
  "language_info": {
   "codemirror_mode": {
    "name": "ipython",
    "version": 3
   },
   "file_extension": ".py",
   "mimetype": "text/x-python",
   "name": "python",
   "nbconvert_exporter": "python",
   "pygments_lexer": "ipython3",
   "version": "3.7.3"
  }
 },
 "nbformat": 4,
 "nbformat_minor": 4
}
